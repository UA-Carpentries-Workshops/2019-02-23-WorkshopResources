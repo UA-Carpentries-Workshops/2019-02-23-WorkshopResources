{
 "cells": [
  {
   "cell_type": "markdown",
   "metadata": {},
   "source": [
    "# Introduction to Programming with Python\n",
    "---"
   ]
  },
  {
   "cell_type": "markdown",
   "metadata": {
    "collapsed": true
   },
   "source": [
    "## What is Python and why would I use it?"
   ]
  },
  {
   "cell_type": "markdown",
   "metadata": {
    "collapsed": true
   },
   "source": [
    "Python is a programming language.  \n",
    "\n",
    "A programming language is a set words you can put together to tell a computer to do something.\n",
    "\n",
    "We like using Python in Software Carpentry Workshops for lots of reasons\n",
    "\n",
    "    - Widely used in science\n",
    "    - It's easy to read and write\n",
    "    - Huge supporting community - lots of ways to learn and get help  \n",
    "    - This Jupyter Notebook.  Not a lot of languages have this kind of thing (name comes from Julia, Python, and R)."
   ]
  },
  {
   "cell_type": "markdown",
   "metadata": {
    "collapsed": true
   },
   "source": [
    "Even if you aren't using Python in your work, you can use Python to learn the fundamentals of programming that will apply accross languages"
   ]
  },
  {
   "cell_type": "markdown",
   "metadata": {
    "collapsed": true
   },
   "source": [
    "# What are the fundamentals?"
   ]
  },
  {
   "cell_type": "markdown",
   "metadata": {
    "collapsed": true
   },
   "source": [
    "## VARIABLES\n",
    "\n",
    " * We store values inside variables.  \n",
    " * We can refer to variables in other parts of our programs.\n",
    " * In Python, the variable is created when a value is assigned to it.\n",
    " * Values are assigned to variable names using the equals sign (=).  \n",
    " * A variable can hold two types of things.  Basic data types and objects(ways to structure data and code).\n",
    " * In Python, all variables are objects.\n",
    " \n",
    "Some data types you will find in almost every language include:\n",
    "\n",
    "    - Strings (characters, words, sentences or paragraphs): 'a' 'b' 'c' 'abc' '0' '3' ';' '?' \n",
    "    - Integers (whole numbers): 1 2 3 100 10000 -100\n",
    "    - Floating point or Float (decimals): 10.0 56.9 -3.765\n",
    "    - Booleans: True, False\n",
    "    \n",
    "Here, Python assigns an age to a variable `age` and a name in quotation marks to a variable `first_name`."
   ]
  },
  {
   "cell_type": "code",
   "execution_count": null,
   "metadata": {
    "scrolled": false
   },
   "outputs": [],
   "source": [
    "age = 42\n",
    "first_name = \"Ahmed\""
   ]
  },
  {
   "cell_type": "markdown",
   "metadata": {},
   "source": [
    "You can display what is inside example_variable by using the print command \n",
    "`print()`\n",
    "with the value placed inside the parenthesis"
   ]
  },
  {
   "cell_type": "code",
   "execution_count": null,
   "metadata": {},
   "outputs": [],
   "source": [
    "age = 42\n",
    "print(age)"
   ]
  },
  {
   "cell_type": "markdown",
   "metadata": {},
   "source": [
    "#### Of Note:\n",
    "   Variable names in Python:\n",
    "    * Cannot start with a digit\n",
    "    * Cannot contain spaces, quotation marks, or other punctuation"
   ]
  },
  {
   "cell_type": "markdown",
   "metadata": {},
   "source": [
    "---\n",
    "## EXERCISE:\n",
    "1. Create two new variables called age and first_name with your own age and name\n",
    "1. Print each variable out to dispaly it's value\n"
   ]
  },
  {
   "cell_type": "code",
   "execution_count": null,
   "metadata": {},
   "outputs": [],
   "source": []
  },
  {
   "cell_type": "markdown",
   "metadata": {},
   "source": [
    "You can also combine values in a single print command by separating them with commas"
   ]
  },
  {
   "cell_type": "code",
   "execution_count": null,
   "metadata": {},
   "outputs": [],
   "source": [
    "# Insert your variable values into the print statement below\n",
    "print(, 'is', , 'years old')"
   ]
  },
  {
   "cell_type": "markdown",
   "metadata": {},
   "source": [
    "* `print` automatically puts a single space between items to separate them.\n",
    "* And wraps around to a new line at the end."
   ]
  },
  {
   "cell_type": "markdown",
   "metadata": {},
   "source": [
    "### Using Python built-in type() function\n",
    "\n",
    "If you are not sure of what your variables' types are, you can call a python function called type() in the same manner as you used print() function.\n",
    "Python is an object-oriented language, so any defined variable has a type."
   ]
  },
  {
   "cell_type": "code",
   "execution_count": null,
   "metadata": {},
   "outputs": [],
   "source": [
    "age = 42\n",
    "first_name = \"Wilbur\"\n",
    "\n",
    "print(type(age))\n",
    "print(type(first_name))"
   ]
  },
  {
   "cell_type": "markdown",
   "metadata": {},
   "source": [
    "### STRING TYPE\n",
    "One or more characters strung together and enclosed in quotes (single or double): \"Hello World!\""
   ]
  },
  {
   "cell_type": "code",
   "execution_count": null,
   "metadata": {},
   "outputs": [],
   "source": [
    "greeting = \"Hello World!\"\n",
    "print (\"The greeting is:\", greeting)"
   ]
  },
  {
   "cell_type": "code",
   "execution_count": null,
   "metadata": {},
   "outputs": [],
   "source": [
    "greeting = 'Hello World!'\n",
    "print ('The greeting is:', greeting)"
   ]
  },
  {
   "cell_type": "markdown",
   "metadata": {},
   "source": [
    "#### Need to use single quotes in your string?\n",
    "Use double quotes to make your string."
   ]
  },
  {
   "cell_type": "code",
   "execution_count": null,
   "metadata": {
    "scrolled": true
   },
   "outputs": [],
   "source": [
    "greeting = \"Hello 'World'!\"\n",
    "print (\"The greeting is:\", greeting)"
   ]
  },
  {
   "cell_type": "markdown",
   "metadata": {},
   "source": [
    "#### Need to use both?"
   ]
  },
  {
   "cell_type": "code",
   "execution_count": null,
   "metadata": {
    "scrolled": true
   },
   "outputs": [],
   "source": [
    "greeting1 = \"'Hello'\"\n",
    "greeting2 = '\"World\"!'\n",
    "print (\"The greeting is:\", greeting1, greeting2)"
   ]
  },
  {
   "cell_type": "markdown",
   "metadata": {},
   "source": [
    "#### Concatenation"
   ]
  },
  {
   "cell_type": "code",
   "execution_count": null,
   "metadata": {},
   "outputs": [],
   "source": [
    "bear = \"wild\"\n",
    "down = \"cats\"\n",
    "print (bear+down)"
   ]
  },
  {
   "cell_type": "markdown",
   "metadata": {},
   "source": [
    "---\n",
    "## EtherPad\n",
    "Why isn't `greeting` enclosed in quotes in the statements above?\n",
    "\n",
    "Post your answers to the EtherPad, or vote for existing answers\n",
    "\n",
    "---"
   ]
  },
  {
   "cell_type": "markdown",
   "metadata": {},
   "source": [
    "#### Use an index to get a single character from a string.\n",
    " * The characters (individual letters, numbers, and so on) in a string are ordered.\n",
    " * For example, the string ‘AB’ is not the same as ‘BA’. Because of this ordering, we can treat the string as a list of characters.\n",
    " * Each position in the string (first, second, etc.) is given a number. This number is called an index or sometimes a subscript.\n",
    " * Indices are numbered from 0.  \n",
    " * Use the position’s index in square brackets to get the character at that position."
   ]
  },
  {
   "cell_type": "code",
   "execution_count": null,
   "metadata": {},
   "outputs": [],
   "source": [
    "#  String :        H e l i u m  \n",
    "#  Index Location: 0 1 2 3 4 5\n",
    "\n",
    "atom_name = 'helium'\n",
    "print(atom_name[0], atom_name[3])"
   ]
  },
  {
   "cell_type": "markdown",
   "metadata": {},
   "source": [
    "### NUMERIC TYPES\n",
    "* Numbers are stored as numbers (no quotes) and are either integers (whole) or real numbers (decimal).  \n",
    "* In programming, numbers with decimal precision are called floating-point, or float.\n",
    "* Floats use more processing than integers so use them wisely!\n",
    "* Floats and ints come in various sizes but Python switches between them transparently."
   ]
  },
  {
   "cell_type": "code",
   "execution_count": null,
   "metadata": {},
   "outputs": [],
   "source": [
    "my_integer = 10\n",
    "my_float = 10.99998\n",
    "\n",
    "print(\"My numeric integer\", my_integer)\n",
    "print(\"Type:\", type(my_integer))"
   ]
  },
  {
   "cell_type": "markdown",
   "metadata": {},
   "source": [
    "### BOOLEAN TYPE\n",
    "* Boolean values are binary, meaning they can only either true or false.\n",
    "* In python True and False (no quotes) are boolean values"
   ]
  },
  {
   "cell_type": "code",
   "execution_count": null,
   "metadata": {},
   "outputs": [],
   "source": [
    "is_true = True\n",
    "is_false = False\n",
    "\n",
    "print(\"My true boolean variable:\", is_true)"
   ]
  },
  {
   "cell_type": "markdown",
   "metadata": {},
   "source": [
    "---\n",
    "## EtherPad\n",
    "What data type is `'1024'`?\n",
    "<ol style=\"list-style-type:lower-alpha\">\n",
    "  <li>String</li>\n",
    "  <li>Integer</li>\n",
    "  <li>Float</li>\n",
    "  <li>Boolean</li>\n",
    "</ol> \n",
    "\n",
    "Post your answers to the EtherPad, or vote for existing answers\n",
    "\n",
    "---"
   ]
  },
  {
   "cell_type": "markdown",
   "metadata": {},
   "source": [
    "## Variables can be used in calculations.\n",
    "\n",
    "*   We can use variables in calculations just as if they were values.\n",
    "    *   Remember, we assigned 42 to `age` a few lines ago."
   ]
  },
  {
   "cell_type": "code",
   "execution_count": null,
   "metadata": {
    "scrolled": true
   },
   "outputs": [],
   "source": [
    "age = 42\n",
    "age = age + 3\n",
    "print('Age in three years:', age)"
   ]
  },
  {
   "cell_type": "markdown",
   "metadata": {},
   "source": [
    "* This now sets our age value 45. We can also add strings together.  When you add strings it's called \"concatenating\""
   ]
  },
  {
   "cell_type": "code",
   "execution_count": null,
   "metadata": {},
   "outputs": [],
   "source": [
    "name = \"Sonoran\"\n",
    "full_name = name + \" Desert\"\n",
    "print(full_name)"
   ]
  },
  {
   "cell_type": "markdown",
   "metadata": {},
   "source": [
    "* Notice how I included a space in the quotes before \"Desert\". If we hadn't, we would have had \"SonoranDesert\"\n",
    "* Can we subtract, multiply, or divide strings?"
   ]
  },
  {
   "cell_type": "code",
   "execution_count": null,
   "metadata": {},
   "outputs": [],
   "source": [
    "#Create a new variable called last_name with your own last name.\n",
    "#Create a second new variable called full_name that is a combination of your first and last name\n",
    "\n"
   ]
  },
  {
   "cell_type": "markdown",
   "metadata": {
    "collapsed": true
   },
   "source": [
    "## DATA STRUCTURES\n",
    "Python has many objects that can be used to structure data including:\n",
    "\n",
    "    - Lists\n",
    "    - Dictionaries\n",
    "    - Tuples\n",
    "    - Sets\n",
    "    "
   ]
  },
  {
   "cell_type": "markdown",
   "metadata": {},
   "source": [
    "### LISTS\n",
    "Lists are collections of values in held together in brackets: "
   ]
  },
  {
   "cell_type": "code",
   "execution_count": null,
   "metadata": {},
   "outputs": [],
   "source": [
    "list_of_characters  = ['a', 'b', 'c'] \n",
    "print (list_of_characters)"
   ]
  },
  {
   "cell_type": "code",
   "execution_count": null,
   "metadata": {},
   "outputs": [],
   "source": [
    "# Create a new list called list_of_numbers with four numbers in it\n"
   ]
  },
  {
   "cell_type": "markdown",
   "metadata": {},
   "source": [
    "* Just like strings, we can access any value in the list by it's position in the list.\n",
    "* **IMPORTANT:** Indexes start at 0\n",
    "    ~~~\n",
    "    list:          ['a', 'b', 'c', 'd']\n",
    "    index location:  0    1    2    3\n",
    "    ~~~"
   ]
  },
  {
   "cell_type": "code",
   "execution_count": null,
   "metadata": {},
   "outputs": [],
   "source": [
    "# Print out the second value in the list list_of_numbers\n"
   ]
  },
  {
   "cell_type": "markdown",
   "metadata": {},
   "source": [
    "Once you have created a list you can add more items to it with the append method"
   ]
  },
  {
   "cell_type": "code",
   "execution_count": null,
   "metadata": {},
   "outputs": [],
   "source": [
    "list_of_numbers.append(5)\n",
    "print(list_of_numbers)"
   ]
  },
  {
   "cell_type": "markdown",
   "metadata": {},
   "source": [
    "### TUPLES (ARRAYS)\n",
    "In other languages, a tuple is known as an array.  Tuples are like a List, but unlike lists cannot me changed (immutable) an example is a set of x and y coordinates like this"
   ]
  },
  {
   "cell_type": "code",
   "execution_count": null,
   "metadata": {},
   "outputs": [],
   "source": [
    "tuple_of_x_y_coordinates = (3, 4)\n",
    "print (tuple_of_x_y_coordinates)"
   ]
  },
  {
   "cell_type": "markdown",
   "metadata": {},
   "source": [
    "Tuples can have any number of values"
   ]
  },
  {
   "cell_type": "code",
   "execution_count": null,
   "metadata": {},
   "outputs": [],
   "source": [
    "coordinates = (1, 7, 38, 9, 0)\n",
    "print (coordinates)\n",
    "icecream_flavors = (\"strawberry\", \"vanilla\", \"chocolate\")\n",
    "print (icecream_flavors)"
   ]
  },
  {
   "cell_type": "markdown",
   "metadata": {},
   "source": [
    "However, once created tuples cannot be added to.\n",
    "\n",
    "\n",
    "Once you have created a tuple, you cannot add more items to it.  If we try, we get an error"
   ]
  },
  {
   "cell_type": "code",
   "execution_count": null,
   "metadata": {},
   "outputs": [],
   "source": [
    "icecream_flavors.append('bubblegum')"
   ]
  },
  {
   "attachments": {
    "array%20vs%20list.png": {
     "image/png": "[encoded data removed]"
    }
   },
   "cell_type": "markdown",
   "metadata": {},
   "source": [
    "### THE DIFFERENCE BETWEEN TUPLES AND LISTS\n",
    "Lists are good for manipulating data sets.  It's easy for the computer to add, remove and sort items.  Sorted tuples are easier to search and index.  This happens because tuples reserve entire blocks of memory to make finding specific locations easier while lists use addressing and force the computer to step through the whole list.\n",
    "![array%20vs%20list.png](attachment:array%20vs%20list.png)\n",
    "Let's say you want to get to the last item.  The tuple can calculate the location because:\n",
    "\n",
    "(address)=(size of data)×(inex of the item)+(original address)\n",
    "\n",
    "This is how zero indexing works.  The computer can do the calculation and jump directly to the address.  The list would need to go through every item in the list to get there.\n",
    "\n",
    "Now lets say you wanted to remove the third item.  Removing it from the tuple requires it to be resized and coppied.  Python would even make you do this manually.  Removing the third item in the list is as simple as making the second item point to the fourth.  Python makes this as easy as calling a method on the tuple object."
   ]
  },
  {
   "cell_type": "markdown",
   "metadata": {},
   "source": [
    "### SETS"
   ]
  },
  {
   "cell_type": "markdown",
   "metadata": {},
   "source": [
    "Sets are similar to lists and tuples, but can only contain unique values and are held in braces\n",
    "\n",
    "\n",
    "For example a list could contain multiple exact values"
   ]
  },
  {
   "cell_type": "code",
   "execution_count": null,
   "metadata": {},
   "outputs": [],
   "source": [
    "my_list = ['Ben', 'Monique', 'Ben', 'Monique', 'Ben', 'Monique']\n",
    "print(\"my_list is\", my_list)\n",
    "\n",
    "# a set, a set would only allow for unique values to be held\n",
    "my_set = {'Ben', 'Monique', 'Ben', 'Monique', 'Ben', 'Monique',}\n",
    "print(\"my_set is\", my_set)"
   ]
  },
  {
   "cell_type": "markdown",
   "metadata": {},
   "source": [
    "### DICTIONARIES\n",
    "* Dictionaries are collections of things that you can lookup like in a real dictionary:\n",
    "* Dictionarys can organized into key and value pairs separated by commas (like lists) and surrounded by braces.\n",
    "   * E.g. {key1: value1, key2: value2}\n",
    "   * We call each association a \"key-value pair\".  \n",
    "   \n"
   ]
  },
  {
   "cell_type": "code",
   "execution_count": null,
   "metadata": {},
   "outputs": [],
   "source": [
    "dictionary_of_definitions = {\"aardvark\" : \"The aardvark is a medium-sized, burrowing, nocturnal mammal native to Africa.\",\n",
    "                             \"boat\" : \"A boat is a thing that floats on water\"}"
   ]
  },
  {
   "cell_type": "markdown",
   "metadata": {},
   "source": [
    "We can find the definition of aardvark by giving the dictionary the \"key\" to the definition we want in brackets.\n",
    "\n",
    "In this case the key is the word we want to lookup"
   ]
  },
  {
   "cell_type": "code",
   "execution_count": null,
   "metadata": {},
   "outputs": [],
   "source": [
    "dictionary_of_definitions = {\"aardvark\" : \"The aardvark is a medium-sized, burrowing, nocturnal mammal native to Africa.\",\n",
    "                             \"boat\" : \"A boat is a thing that floats on water\"}\n",
    "print (\"The definition of aardvark is:\", dictionary_of_definitions[\"aardvark\"]) "
   ]
  },
  {
   "cell_type": "code",
   "execution_count": null,
   "metadata": {},
   "outputs": [],
   "source": [
    "# Print out the definition of a boat\n"
   ]
  },
  {
   "cell_type": "markdown",
   "metadata": {},
   "source": [
    "Create a new dictionary with the following information:\n",
    "    * \"first\" - \"purple\"\n",
    "    * \"second\" - \"green\"\n",
    "    * \"third\" - \"blue\"\n",
    "    * \"fourth\" - \"red\""
   ]
  },
  {
   "cell_type": "code",
   "execution_count": null,
   "metadata": {},
   "outputs": [],
   "source": []
  },
  {
   "cell_type": "markdown",
   "metadata": {},
   "source": [
    "---\n",
    "## EtherPad\n",
    "Which one of these is not a valid entry in a dictionary?\n",
    "\n",
    "1. `\"key\"`: `\"value\"`\n",
    "2. `\"GCBHSA\"`: `\"ldksghdklfghfdlgkfdhgfldkghfgfhd\"`\n",
    "3. `\"900\"` : `\"key\"` : `\"value\"`\n",
    "4. `Books` : `10000`\n",
    "\n",
    "Post your answer the the EtherPad, or vote for an existing answer\n",
    "\n",
    "---"
   ]
  },
  {
   "cell_type": "markdown",
   "metadata": {},
   "source": [
    "---\n",
    "## EXERCISE:\n",
    "1. Create a dictionary called `zoo` with at least three animal types with a different count for each animal.\n",
    "1. `print` out the count of the second animal in your dictionary \n",
    "\n",
    "---"
   ]
  },
  {
   "cell_type": "code",
   "execution_count": null,
   "metadata": {},
   "outputs": [],
   "source": []
  },
  {
   "cell_type": "markdown",
   "metadata": {
    "collapsed": true
   },
   "source": [
    "## Statements\n",
    "\n",
    "OK great.  Now what can we do with all of this?  \n",
    "\n",
    "We can plug everything together with a bit of logic and python language and make a program that can do things like:\n",
    "\n",
    "* process data\n",
    "\n",
    "* parse files\n",
    "\n",
    "* data analysis"
   ]
  },
  {
   "cell_type": "markdown",
   "metadata": {},
   "source": [
    "What kind of logic are we talking about?\n",
    "\n",
    "We are talking about something called a \"logical structure\" which starts at the top (first line) and reads down the page in order\n",
    "\n",
    "In python a logical structure are often composed of statements. Statements are powerful operators that control the flow of your script. There are two main types:\n",
    "\n",
    "* conditionals (if, while)\n",
    "* loops (for)\n"
   ]
  },
  {
   "cell_type": "markdown",
   "metadata": {},
   "source": [
    "### Conditionals"
   ]
  },
  {
   "cell_type": "markdown",
   "metadata": {},
   "source": [
    "Conditionals are how we make a decision in the program.\n",
    "In python, conditional statements are called if/else statements.\n",
    "\n",
    "\n",
    "* If statement use boolean values to define flow.\n",
    "* E.g. If something is True, do this. Else, do this"
   ]
  },
  {
   "cell_type": "code",
   "execution_count": null,
   "metadata": {},
   "outputs": [],
   "source": [
    "it_is_daytime = False # this is the variable that holds the current condition of it_is_daytime which is True or False \n",
    "\n",
    "if it_is_daytime:\n",
    "    print (\"Have a nice day.\")\n",
    "else:\n",
    "    print (\"Have a nice night.\")\n",
    "    \n",
    "# before running this cell\n",
    "# what will happen if we change it_is_daytime to True?\n",
    "# what will happen if we change it_is_daytime to False?"
   ]
  },
  {
   "cell_type": "markdown",
   "metadata": {},
   "source": [
    "* Often if/else statement use a comparison between two values to determine True or False\n",
    "* These comparisons use \"comparison operators\" such as ==, >, and <.\n",
    "    * E.g.\n",
    "        \n",
    "        1 > 2 is False  \n",
    "        or  \n",
    "        'abc' == 'abc' is True\n",
    "    \n",
    "\n",
    "* **NOTE**: Two equal signs is used to compare values, while one equals sign is used to assign a value"
   ]
  },
  {
   "cell_type": "code",
   "execution_count": null,
   "metadata": {},
   "outputs": [],
   "source": [
    "user_name = \"Ben\"\n",
    "\n",
    "if user_name == \"Marnee\":\n",
    "    print (\"Marnee likes to program in Python.\")\n",
    "else:\n",
    "    print (\"We do not know who you are.\")"
   ]
  },
  {
   "cell_type": "markdown",
   "metadata": {},
   "source": [
    "* What if a condition has more than two choices? Does it have to use a boolean?\n",
    "* Python if-statments will let you do that with elif\n",
    "* `elif` stands for \"else if\"\n",
    " "
   ]
  },
  {
   "cell_type": "code",
   "execution_count": null,
   "metadata": {},
   "outputs": [],
   "source": [
    "user_name = \"\"\n",
    "\n",
    "if user_name == \"Marnee\":\n",
    "    print (\"Marnee likes to program in Python.\")\n",
    "elif user_name == \"Ben\":\n",
    "    print (\"Ben likes maps.\")\n",
    "elif user_name == \"Brian\":\n",
    "    print (\"Brian likes plant genomes\")\n",
    "else:\n",
    "    print (\"We do not know who you are\")\n",
    "    \n",
    "# for each possibility of user_name we have an if or else-if statment to check the value of the name\n",
    "# and print a message accordingly."
   ]
  },
  {
   "cell_type": "markdown",
   "metadata": {},
   "source": [
    "What does the following statement print?\n",
    "\n",
    "    my_num = 42\n",
    "    my_num = 8 + my_num\n",
    "    new_num = my_num / 2\n",
    "    if new_num >= 30:\n",
    "        print(\"Greater than thirty\")\n",
    "    elif my_num == 25:\n",
    "        print(\"Equals 25\")\n",
    "    elif new_num <= 30:\n",
    "        print(\"Less than thirty\")\n",
    "    else:\n",
    "        print(\"Unknown\")"
   ]
  },
  {
   "cell_type": "markdown",
   "metadata": {},
   "source": [
    "---\n",
    "## EXERCISE:\n",
    "* 1. Check to see if you have more than three entries in the `zoo` dictionary you created earlier. If you do, print \"more than three\".  If you don't, print \"less than three\"\n",
    "\n",
    "---"
   ]
  },
  {
   "cell_type": "code",
   "execution_count": null,
   "metadata": {},
   "outputs": [],
   "source": []
  },
  {
   "cell_type": "markdown",
   "metadata": {},
   "source": [
    "### Loops\n",
    "Loops tell a program to do the same thing over and over again until a certain condition is met.  \n",
    "In python two main loop types are for loops and while loops."
   ]
  },
  {
   "cell_type": "markdown",
   "metadata": {},
   "source": [
    "#### For Loops\n",
    "We can loop over collections of things like lists or dictionaries or we can create a looping structure."
   ]
  },
  {
   "cell_type": "code",
   "execution_count": null,
   "metadata": {},
   "outputs": [],
   "source": [
    "# LOOPING over a collection\n",
    "# LIST\n",
    "\n",
    "# If I want to print a list of fruits, I could write out each print statment like this:\n",
    "print(\"apple\")\n",
    "print(\"banana\")\n",
    "print(\"mango\")\n",
    "\n",
    "# or I could create a list of fruit\n",
    "# loop over the list\n",
    "# and print each item in the list\n",
    "list_of_fruit = [\"apple\", \"banana\", \"mango\"]\n",
    "\n",
    "# this is how we write the loop\n",
    "# \"fruit\" here is a variable that will hold each item in the list, the fruit, as we loop\n",
    "# over the items in the list\n",
    "print (\">>looping>>\")\n",
    "for fruit in list_of_fruit:\n",
    "    print (fruit)"
   ]
  },
  {
   "cell_type": "code",
   "execution_count": null,
   "metadata": {},
   "outputs": [],
   "source": [
    "# LOOPING over a collection\n",
    "# DICTIONARY\n",
    "\n",
    "# We can do the same thing with a dictionary and each association in the dictionary\n",
    "\n",
    "fruit_price = {\"apple\" : 0.10, \"banana\" : 0.50, \"mango\" : 0.75}\n",
    "for key, value in fruit_price.items():\n",
    "    print (\"%s price is %s\" % (key, value))"
   ]
  },
  {
   "cell_type": "code",
   "execution_count": null,
   "metadata": {},
   "outputs": [],
   "source": [
    "# LOOPING a set number of times\n",
    "# We can do this with range \n",
    "# range automatically creates a list of numbers in a range\n",
    "# here we have a list of 10 numbers starting with 0 and increasing by one until we have 10 numbers\n",
    "# What will be printed\n",
    "for x in range(0,10):\n",
    "    print (x)"
   ]
  },
  {
   "cell_type": "markdown",
   "metadata": {},
   "source": [
    "---\n",
    "## EXERCISE:\n",
    "1\\. For each entry in your `zoo` dictionary, print that entry/key"
   ]
  },
  {
   "cell_type": "code",
   "execution_count": null,
   "metadata": {},
   "outputs": [],
   "source": []
  },
  {
   "cell_type": "markdown",
   "metadata": {},
   "source": [
    "2\\. For each entry in your zoo dictionary, print that value"
   ]
  },
  {
   "cell_type": "code",
   "execution_count": null,
   "metadata": {},
   "outputs": [],
   "source": []
  },
  {
   "cell_type": "markdown",
   "metadata": {},
   "source": [
    "---\n",
    "#### While Loops\n",
    "Similar to if statements, while loops use a boolean test to either continue looping or break out of the loop."
   ]
  },
  {
   "cell_type": "code",
   "execution_count": null,
   "metadata": {},
   "outputs": [],
   "source": [
    "# While Loops\n",
    "my_num = 10\n",
    "\n",
    "while my_num > 0:\n",
    "    print(\"My number\", my_num)\n",
    "    my_num = my_num - 1"
   ]
  },
  {
   "cell_type": "markdown",
   "metadata": {},
   "source": [
    "NOTE:  While loops can be dangerous, because if you forget to to include an operation that modifies the variable being tested (above, we're subtracting 1 at the end of each loop), it will continue to run forever and you script will never finish."
   ]
  },
  {
   "cell_type": "markdown",
   "metadata": {
    "collapsed": true
   },
   "source": [
    "That's it.  With just these data types, structures, and logic, you can build a program\n",
    "\n",
    "Let's do that next with functions"
   ]
  },
  {
   "cell_type": "markdown",
   "metadata": {},
   "source": [
    "# -- COMMIT YOUR WORK TO GITHUB --"
   ]
  }
 ],
 "metadata": {
  "anaconda-cloud": {},
  "kernelspec": {
   "display_name": "Python 3",
   "language": "python",
   "name": "python3"
  },
  "language_info": {
   "codemirror_mode": {
    "name": "ipython",
    "version": 3
   },
   "file_extension": ".py",
   "mimetype": "text/x-python",
   "name": "python",
   "nbconvert_exporter": "python",
   "pygments_lexer": "ipython3",
   "version": "3.7.1"
  }
 },
 "nbformat": 4,
 "nbformat_minor": 2
}
